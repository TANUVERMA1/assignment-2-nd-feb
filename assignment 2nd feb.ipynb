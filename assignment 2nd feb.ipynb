{
 "cells": [
  {
   "cell_type": "raw",
   "id": "5df64a95-7d9d-4c36-ae05-9ce04fbd0dbe",
   "metadata": {},
   "source": [
    "1 explain with an example when to use for loop and while loop"
   ]
  },
  {
   "cell_type": "markdown",
   "id": "d8997bba-288d-48fb-8e46-7b088fb612d9",
   "metadata": {},
   "source": [
    "use of \"for\" in  loop "
   ]
  },
  {
   "cell_type": "code",
   "execution_count": 2,
   "id": "b199fcf6-7bca-4d10-b5e2-d60568e87220",
   "metadata": {},
   "outputs": [],
   "source": [
    "l = [\"pwskill\",\"tanu\",\"computer\",\"skills\",\"data science\"]"
   ]
  },
  {
   "cell_type": "code",
   "execution_count": 4,
   "id": "8686eac6-a9b4-4ae0-bc36-93811ae63952",
   "metadata": {},
   "outputs": [
    {
     "name": "stdout",
     "output_type": "stream",
     "text": [
      "pwskill\n",
      "tanu\n",
      "computer\n",
      "skills\n",
      "data science\n"
     ]
    }
   ],
   "source": [
    "for i in l :\n",
    "     print(i)"
   ]
  },
  {
   "cell_type": "markdown",
   "id": "4c1c8d70-4c91-4695-933b-11a46acb7cb2",
   "metadata": {},
   "source": [
    "Repeatation of specific number or strings   of code in several of time ."
   ]
  },
  {
   "cell_type": "raw",
   "id": "aad24f84-3d45-459e-aee7-e274af0f916f",
   "metadata": {},
   "source": [
    "# use of \"while\" in loop"
   ]
  },
  {
   "cell_type": "code",
   "execution_count": 18,
   "id": "f5a1f62a-099b-48b1-88a5-46eaee002762",
   "metadata": {},
   "outputs": [
    {
     "name": "stdout",
     "output_type": "stream",
     "text": [
      "1\n",
      "2\n",
      "3\n",
      "4\n",
      "5\n",
      "6\n",
      "7\n",
      "8\n",
      "9\n",
      "10\n"
     ]
    }
   ],
   "source": [
    "a= 1\n",
    "\n",
    "while a <= 10:\n",
    "    print(a)\n",
    "    a= a+1"
   ]
  },
  {
   "cell_type": "raw",
   "id": "a693da6e-4a7c-4939-878d-f7c2cfc23cea",
   "metadata": {},
   "source": [
    "#sum up the number till some time"
   ]
  },
  {
   "cell_type": "raw",
   "id": "df9d7fa7-7f9e-4dbb-8031-0ca460e1e4bf",
   "metadata": {},
   "source": [
    "if we want to break the loop and put limitation based on condition other than number of times it runs on that situation we use \"while \" loop,' while' loop work onlty when the condition is true."
   ]
  },
  {
   "cell_type": "markdown",
   "id": "425d226e-214d-4834-9398-82395d8e3825",
   "metadata": {},
   "source": [
    "2. Write a python program to print the sum and product of the first 10 natural numbers using for\n",
    "and while loop."
   ]
  },
  {
   "cell_type": "code",
   "execution_count": 2,
   "id": "e05144a8-c953-4195-b03d-ac302f0dac6e",
   "metadata": {},
   "outputs": [
    {
     "name": "stdin",
     "output_type": "stream",
     "text": [
      "enter your limit 10\n"
     ]
    },
    {
     "data": {
      "text/plain": [
       "55"
      ]
     },
     "execution_count": 2,
     "metadata": {},
     "output_type": "execute_result"
    }
   ],
   "source": [
    "#sum\n",
    "n = int(input( \"enter your limit\"))\n",
    "starting_point = 0\n",
    "counter = 1\n",
    "        \n",
    "while counter <= n:\n",
    "    starting_point = starting_point + counter\n",
    "    counter = counter + 1\n",
    "starting_point"
   ]
  },
  {
   "cell_type": "code",
   "execution_count": 5,
   "id": "90db2ac8-7c4b-4b53-9f8b-b3eadd8118d4",
   "metadata": {},
   "outputs": [
    {
     "name": "stdin",
     "output_type": "stream",
     "text": [
      "enter your number 10\n"
     ]
    },
    {
     "data": {
      "text/plain": [
       "3628800"
      ]
     },
     "execution_count": 5,
     "metadata": {},
     "output_type": "execute_result"
    }
   ],
   "source": [
    "#product\n",
    "number = int(input(\"enter your number\"))\n",
    "factorial = 1             \n",
    "while number > 0 :\n",
    "    factorial = factorial*number\n",
    "    number = number - 1 \n",
    "factorial    "
   ]
  },
  {
   "cell_type": "raw",
   "id": "dec12f90-8ec9-43d5-bffa-392ae3aa93de",
   "metadata": {},
   "source": [
    "Q3. Create a python program to compute the electricity bill for a household.\n",
    "The per-unit charges in rupees are as follows: For the first 100 units, the user will be charged Rs. 4.5 per\n",
    "unit, for the next 100 units, the user will be charged Rs. 6 per unit, and for the next 100 units, the user will\n",
    "be charged Rs. 10 per unit, After 300 units and above the user will be charged Rs. 20 per unit.\n",
    "\n",
    "\n",
    "You are required to take the units of electricity consumed in a month from the user as input.\n",
    "\n",
    "\n",
    "Your program must pass this test case: when the unit of electricity consumed by the user in a month is\n",
    "310, the total electricity bill should be 2250\n"
   ]
  },
  {
   "cell_type": "code",
   "execution_count": 2,
   "id": "bbfc68aa-b6ed-467b-839c-07aa7b41e356",
   "metadata": {},
   "outputs": [
    {
     "name": "stdin",
     "output_type": "stream",
     "text": [
      " 310\n"
     ]
    },
    {
     "name": "stdout",
     "output_type": "stream",
     "text": [
      "2250.0\n"
     ]
    }
   ],
   "source": [
    "n=int(input())\n",
    "bill=0\n",
    "if n>300:\n",
    "    x=n-300#calculate units more than 300\n",
    "    bill=bill+x*20\n",
    "    bill=bill+100*10+100*6+100*4.5\n",
    "    print(bill)\n",
    "elif n>200:\n",
    "    x=n-200\n",
    "    bill=bill+x*10\n",
    "    bill=bill+100*6+100*4.5\n",
    "    print(bill)\n",
    "elif n>100:\n",
    "    x=n-100\n",
    "    bill=bill+x*6\n",
    "    bill=bill+100*4.5\n",
    "    print(bill)\n",
    "else:\n",
    "    bill=bill+n*4.5\n",
    "    print(bill)"
   ]
  },
  {
   "cell_type": "markdown",
   "id": "23e16b9c-8bf5-47a9-80e3-5ca2b233b933",
   "metadata": {},
   "source": [
    "Q4. Create a list of numbers from 1 to 100. Use for loop and while loop to calculate the cube of each\n",
    "number and if the cube of that number is divisible by 4 or 5 then append that number in a list and print\n",
    "that list"
   ]
  },
  {
   "cell_type": "code",
   "execution_count": 6,
   "id": "63c9f6fc-c011-4290-ae71-74509482476c",
   "metadata": {},
   "outputs": [],
   "source": [
    "l = list(range(101))"
   ]
  },
  {
   "cell_type": "code",
   "execution_count": 7,
   "id": "ee8b5bef-2fe9-42b6-927b-27e192243262",
   "metadata": {},
   "outputs": [
    {
     "data": {
      "text/plain": [
       "[0,\n",
       " 1,\n",
       " 2,\n",
       " 3,\n",
       " 4,\n",
       " 5,\n",
       " 6,\n",
       " 7,\n",
       " 8,\n",
       " 9,\n",
       " 10,\n",
       " 11,\n",
       " 12,\n",
       " 13,\n",
       " 14,\n",
       " 15,\n",
       " 16,\n",
       " 17,\n",
       " 18,\n",
       " 19,\n",
       " 20,\n",
       " 21,\n",
       " 22,\n",
       " 23,\n",
       " 24,\n",
       " 25,\n",
       " 26,\n",
       " 27,\n",
       " 28,\n",
       " 29,\n",
       " 30,\n",
       " 31,\n",
       " 32,\n",
       " 33,\n",
       " 34,\n",
       " 35,\n",
       " 36,\n",
       " 37,\n",
       " 38,\n",
       " 39,\n",
       " 40,\n",
       " 41,\n",
       " 42,\n",
       " 43,\n",
       " 44,\n",
       " 45,\n",
       " 46,\n",
       " 47,\n",
       " 48,\n",
       " 49,\n",
       " 50,\n",
       " 51,\n",
       " 52,\n",
       " 53,\n",
       " 54,\n",
       " 55,\n",
       " 56,\n",
       " 57,\n",
       " 58,\n",
       " 59,\n",
       " 60,\n",
       " 61,\n",
       " 62,\n",
       " 63,\n",
       " 64,\n",
       " 65,\n",
       " 66,\n",
       " 67,\n",
       " 68,\n",
       " 69,\n",
       " 70,\n",
       " 71,\n",
       " 72,\n",
       " 73,\n",
       " 74,\n",
       " 75,\n",
       " 76,\n",
       " 77,\n",
       " 78,\n",
       " 79,\n",
       " 80,\n",
       " 81,\n",
       " 82,\n",
       " 83,\n",
       " 84,\n",
       " 85,\n",
       " 86,\n",
       " 87,\n",
       " 88,\n",
       " 89,\n",
       " 90,\n",
       " 91,\n",
       " 92,\n",
       " 93,\n",
       " 94,\n",
       " 95,\n",
       " 96,\n",
       " 97,\n",
       " 98,\n",
       " 99,\n",
       " 100]"
      ]
     },
     "execution_count": 7,
     "metadata": {},
     "output_type": "execute_result"
    }
   ],
   "source": [
    "l"
   ]
  },
  {
   "cell_type": "code",
   "execution_count": 8,
   "id": "2c62a830-18ba-46f2-9277-4e41740d3a14",
   "metadata": {},
   "outputs": [
    {
     "name": "stdout",
     "output_type": "stream",
     "text": [
      "0\n",
      "1\n",
      "8\n",
      "27\n",
      "64\n",
      "125\n",
      "216\n",
      "343\n",
      "512\n",
      "729\n",
      "1000\n",
      "1331\n",
      "1728\n",
      "2197\n",
      "2744\n",
      "3375\n",
      "4096\n",
      "4913\n",
      "5832\n",
      "6859\n",
      "8000\n",
      "9261\n",
      "10648\n",
      "12167\n",
      "13824\n",
      "15625\n",
      "17576\n",
      "19683\n",
      "21952\n",
      "24389\n",
      "27000\n",
      "29791\n",
      "32768\n",
      "35937\n",
      "39304\n",
      "42875\n",
      "46656\n",
      "50653\n",
      "54872\n",
      "59319\n",
      "64000\n",
      "68921\n",
      "74088\n",
      "79507\n",
      "85184\n",
      "91125\n",
      "97336\n",
      "103823\n",
      "110592\n",
      "117649\n",
      "125000\n",
      "132651\n",
      "140608\n",
      "148877\n",
      "157464\n",
      "166375\n",
      "175616\n",
      "185193\n",
      "195112\n",
      "205379\n",
      "216000\n",
      "226981\n",
      "238328\n",
      "250047\n",
      "262144\n",
      "274625\n",
      "287496\n",
      "300763\n",
      "314432\n",
      "328509\n",
      "343000\n",
      "357911\n",
      "373248\n",
      "389017\n",
      "405224\n",
      "421875\n",
      "438976\n",
      "456533\n",
      "474552\n",
      "493039\n",
      "512000\n",
      "531441\n",
      "551368\n",
      "571787\n",
      "592704\n",
      "614125\n",
      "636056\n",
      "658503\n",
      "681472\n",
      "704969\n",
      "729000\n",
      "753571\n",
      "778688\n",
      "804357\n",
      "830584\n",
      "857375\n",
      "884736\n",
      "912673\n",
      "941192\n",
      "970299\n",
      "1000000\n"
     ]
    }
   ],
   "source": [
    "for i in l :\n",
    "    print (i*i*i)"
   ]
  },
  {
   "cell_type": "code",
   "execution_count": 1,
   "id": "77af546f-2be6-4b3a-9f55-819ce080992b",
   "metadata": {},
   "outputs": [
    {
     "name": "stdout",
     "output_type": "stream",
     "text": [
      "1\n",
      "2\n",
      "3\n",
      "4\n",
      "5\n",
      "6\n",
      "7\n",
      "8\n",
      "9\n",
      "10\n",
      "11\n",
      "12\n",
      "13\n",
      "14\n",
      "15\n",
      "16\n",
      "17\n",
      "18\n",
      "19\n",
      "20\n",
      "21\n",
      "22\n",
      "23\n",
      "24\n",
      "25\n",
      "26\n",
      "27\n",
      "28\n",
      "29\n",
      "30\n",
      "31\n",
      "32\n",
      "33\n",
      "34\n",
      "35\n",
      "36\n",
      "37\n",
      "38\n",
      "39\n",
      "40\n",
      "41\n",
      "42\n",
      "43\n",
      "44\n",
      "45\n",
      "46\n",
      "47\n",
      "48\n",
      "49\n",
      "50\n",
      "51\n",
      "52\n",
      "53\n",
      "54\n",
      "55\n",
      "56\n",
      "57\n",
      "58\n",
      "59\n",
      "60\n",
      "61\n",
      "62\n",
      "63\n",
      "64\n",
      "65\n",
      "66\n",
      "67\n",
      "68\n",
      "69\n",
      "70\n",
      "71\n",
      "72\n",
      "73\n",
      "74\n",
      "75\n",
      "76\n",
      "77\n",
      "78\n",
      "79\n",
      "80\n",
      "81\n",
      "82\n",
      "83\n",
      "84\n",
      "85\n",
      "86\n",
      "87\n",
      "88\n",
      "89\n",
      "90\n",
      "91\n",
      "92\n",
      "93\n",
      "94\n",
      "95\n",
      "96\n",
      "97\n",
      "98\n",
      "99\n",
      "100\n",
      "101\n"
     ]
    }
   ],
   "source": [
    "a = 1\n",
    "\n",
    "while a <= 101:\n",
    "    print(a)\n",
    "        a = a+1"
   ]
  },
  {
   "cell_type": "markdown",
   "id": "408c610c-ed4b-4ff5-bead-beb0a8e58d17",
   "metadata": {},
   "source": [
    "Q5. Write a program to filter count vowels in the below-given string.\n",
    "\n",
    "string = \"I want to become a data scientist\""
   ]
  },
  {
   "cell_type": "code",
   "execution_count": 4,
   "id": "44fc58ac-8d92-466f-a8b9-28c3b58de4c0",
   "metadata": {},
   "outputs": [
    {
     "ename": "IndentationError",
     "evalue": "unexpected indent (2327686490.py, line 2)",
     "output_type": "error",
     "traceback": [
      "\u001b[0;36m  Cell \u001b[0;32mIn[4], line 2\u001b[0;36m\u001b[0m\n\u001b[0;31m    for character in string:\u001b[0m\n\u001b[0m    ^\u001b[0m\n\u001b[0;31mIndentationError\u001b[0m\u001b[0;31m:\u001b[0m unexpected indent\n"
     ]
    }
   ],
   "source": [
    " # To count the vowels\n",
    "    for character in string:\n",
    "        if character in count:\n",
    "            count[character] += 1   \n",
    "    return count"
   ]
  },
  {
   "cell_type": "code",
   "execution_count": null,
   "id": "74999379-7780-4e77-9063-b3932ff1928c",
   "metadata": {},
   "outputs": [],
   "source": [
    "# Count vowels in a different way\n",
    "# Using dictionary\n",
    "def Check_Vow(string, vowels):\n",
    "     \n",
    "    # casefold has been used to ignore cases\n",
    "    string = string.casefold()\n",
    "     \n",
    "    # Forms a dictionary with key as a vowel\n",
    "    # and the value as 0\n",
    "    count = {}.fromkeys(vowels, 0)\n",
    "     \n",
    "    # To count the vowels\n",
    "    for character in string:\n",
    "        if character in count:\n",
    "            count[character] += 1   \n",
    "    return count\n",
    "     \n",
    "# Driver Code\n",
    "vowels = 'aeiou'\n",
    "string = \"Geeks for Geeks\"\n",
    "print (Check_Vow(string, vowels))\n",
    "Output"
   ]
  },
  {
   "cell_type": "code",
   "execution_count": 3,
   "id": "f2a5b3cc-f286-450e-8d43-2c2685d431d3",
   "metadata": {},
   "outputs": [
    {
     "ename": "SyntaxError",
     "evalue": "incomplete input (3793852168.py, line 3)",
     "output_type": "error",
     "traceback": [
      "\u001b[0;36m  Cell \u001b[0;32mIn[3], line 3\u001b[0;36m\u001b[0m\n\u001b[0;31m    print (Check_Vow(string, vowels)\u001b[0m\n\u001b[0m                                    ^\u001b[0m\n\u001b[0;31mSyntaxError\u001b[0m\u001b[0;31m:\u001b[0m incomplete input\n"
     ]
    }
   ],
   "source": [
    "vowels = 'aeiou'\n",
    "string = \"i want to become a data scientist\"\n",
    "print (Check_Vow(string, vowels)"
   ]
  },
  {
   "cell_type": "code",
   "execution_count": null,
   "id": "27677061-e72e-424b-8143-6b72c96b144f",
   "metadata": {},
   "outputs": [],
   "source": []
  }
 ],
 "metadata": {
  "kernelspec": {
   "display_name": "Python 3 (ipykernel)",
   "language": "python",
   "name": "python3"
  },
  "language_info": {
   "codemirror_mode": {
    "name": "ipython",
    "version": 3
   },
   "file_extension": ".py",
   "mimetype": "text/x-python",
   "name": "python",
   "nbconvert_exporter": "python",
   "pygments_lexer": "ipython3",
   "version": "3.10.8"
  }
 },
 "nbformat": 4,
 "nbformat_minor": 5
}
